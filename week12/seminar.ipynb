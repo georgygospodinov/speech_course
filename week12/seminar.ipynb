{
 "cells": [
  {
   "cell_type": "code",
   "execution_count": 1,
   "id": "7bd188f5-5621-4559-8a44-ca6dad930c94",
   "metadata": {},
   "outputs": [],
   "source": [
    "import os\n",
    "import numpy as np\n",
    "import torch\n",
    "import sys\n"
   ]
  },
  {
   "cell_type": "code",
   "execution_count": 2,
   "id": "4cb3b1ef-119a-4c57-a83b-6c81c887b050",
   "metadata": {},
   "outputs": [
    {
     "name": "stdout",
     "output_type": "stream",
     "text": [
      "{' ': 0, 'а': 1, 'б': 2, 'в': 3, 'г': 4, 'д': 5, 'е': 6, 'ё': 7, 'ж': 8, 'з': 9, 'и': 10, 'й': 11, 'к': 12, 'л': 13, 'м': 14, 'н': 15, 'о': 16, 'п': 17, 'р': 18, 'с': 19, 'т': 20, 'у': 21, 'ф': 22, 'х': 23, 'ц': 24, 'ч': 25, 'ш': 26, 'щ': 27, 'ъ': 28, 'ы': 29, 'ь': 30, 'э': 31, 'ю': 32, 'я': 33, 'А': 34, 'О': 35, 'У': 36, 'Ы': 37, 'Э': 38, 'Я': 39, 'Ё': 40, 'Ю': 41, 'И': 42, 'Е': 43, ',': 44, '.': 45, '!': 46, '?': 47, ';': 48, ':': 49, '(': 50, ')': 51}\n"
     ]
    }
   ],
   "source": [
    "alphabet = ' абвгдеёжзийклмнопрстуфхцчшщъыьэюяАОУЫЭЯЁЮИЕ,.!?;:()'\n",
    "\n",
    "i2a = {a:i for i,a in enumerate(alphabet)}\n",
    "print(i2a)"
   ]
  },
  {
   "cell_type": "code",
   "execution_count": 4,
   "id": "80d44b1b-5d7d-4067-816a-befea28ebb20",
   "metadata": {},
   "outputs": [],
   "source": [
    "class BatchSampler():\n",
    "    def __init__(self, data, batch_size):\n",
    "        self.data = data\n",
    "        self.batch_size = batch_size\n",
    "        self.i = 0\n",
    "        self.n = len(self.data)\n",
    "        self.max_x = 500\n",
    "        self.max_y = 2000\n",
    "\n",
    "    def reset(self):\n",
    "        self.i = 0\n",
    "        np.random.shuffle(self.data)\n",
    "\n",
    "    def pad(self, a, l, value):\n",
    "        if len(a.shape) == 1:\n",
    "            z = value + np.zeros(l)\n",
    "            m = np.zeros(l)\n",
    "            z[:len(a)] = a\n",
    "            m[:len(a)] = 1\n",
    "        elif len(a.shape) == 2:\n",
    "            z = np.zeros((l, a.shape[1]))\n",
    "            m = np.zeros(l)\n",
    "            z[:len(a)] = a\n",
    "            z[len(a):] = value\n",
    "            m[:len(a)] = 1\n",
    "        return z, m\n",
    "        \n",
    "    def next_batch(self):\n",
    "        if self.i + self.batch_size >= self.n:\n",
    "            self.reset()\n",
    "\n",
    "        batch_x = []\n",
    "        batch_mask_x = []\n",
    "        batch_y = []\n",
    "        batch_mask_y = []\n",
    "        max_x = 0\n",
    "        max_y = 0\n",
    "        for j in range(self.batch_size):\n",
    "            indices = np.array([i2a[l] for l in self.data[self.i][0]])\n",
    "            spec = self.data[self.i][1]\n",
    "\n",
    "            text_padded, text_mask = self.pad(indices, self.max_x, 0)\n",
    "            mel_padded, mel_mask = self.pad(spec, self.max_y, 0)\n",
    "\n",
    "            batch_x.append(text_padded)\n",
    "            batch_mask_x.append(text_mask)\n",
    "            batch_y.append(mel_padded)\n",
    "            batch_mask_y.append(mel_mask)\n",
    "            if indices.shape[0] > max_x:\n",
    "                max_x = indices.shape[0]\n",
    "            if spec.shape[0] > max_y:\n",
    "                max_y = spec.shape[0]\n",
    "            self.i += 1\n",
    "\n",
    "        batch_x = np.array(batch_x)[:, :max_x]\n",
    "        batch_mask_x = np.array(batch_mask_x)[:, :max_x]\n",
    "        batch_y = np.array(batch_y)[:, :max_y]\n",
    "        batch_mask_y = np.array(batch_mask_y)[:, :max_y]\n",
    "        \n",
    "        return batch_x, batch_mask_x, batch_y, batch_mask_y\n",
    "\n",
    "\n",
    "            \n",
    "            \n",
    "        "
   ]
  },
  {
   "cell_type": "code",
   "execution_count": 5,
   "id": "7f48db01-3ef4-41d4-8648-7f9f97a4b598",
   "metadata": {},
   "outputs": [
    {
     "name": "stdout",
     "output_type": "stream",
     "text": [
      "1024\n"
     ]
    },
    {
     "name": "stderr",
     "output_type": "stream",
     "text": [
      "/var/folders/67/tfnxn66j4336wyzh50db4620rz9tqp/T/ipykernel_46228/3699683053.py:12: VisibleDeprecationWarning: Creating an ndarray from ragged nested sequences (which is a list-or-tuple of lists-or-tuples-or ndarrays with different lengths or shapes) is deprecated. If you meant to do this, you must specify 'dtype=object' when creating the ndarray.\n",
      "  data = np.array([sample_random() for i in range(n)])\n"
     ]
    }
   ],
   "source": [
    "# gen mock data\n",
    "def sample_random(min_x=1, max_x=300, min_y=10, max_y=1000):\n",
    "    n = np.random.randint(min_x, max_x)\n",
    "    k = np.random.randint(min_y, max_y)\n",
    "    text = ''.join([np.random.choice(list(alphabet)) for i in range(n)])\n",
    "    spec = np.array([np.random.random(size=80) for i in range(k)])\n",
    "    return text, spec\n",
    "\n",
    "n = 1024\n",
    "batch_size = 32\n",
    "\n",
    "data = np.array([sample_random() for i in range(n)])\n",
    "print(len(data))\n",
    "\n",
    "sampler = BatchSampler(data, batch_size)\n"
   ]
  },
  {
   "cell_type": "code",
   "execution_count": 7,
   "id": "331837c1-9132-4e77-892c-16138430e6de",
   "metadata": {},
   "outputs": [
    {
     "name": "stdout",
     "output_type": "stream",
     "text": [
      "(32, 292)\n",
      "(32, 292)\n",
      "(32, 969, 80)\n",
      "(32, 969)\n"
     ]
    }
   ],
   "source": [
    "batch = sampler.next_batch()\n",
    "# print(batch[0])\n",
    "for b in batch:\n",
    "    print(b.shape)"
   ]
  },
  {
   "cell_type": "code",
   "execution_count": 8,
   "id": "4d89ac35-aeb0-4bbd-a94c-f8aa67a9d7e9",
   "metadata": {},
   "outputs": [
    {
     "name": "stdout",
     "output_type": "stream",
     "text": [
      "0.4937190327445067\n"
     ]
    }
   ],
   "source": [
    "zero_count = 0\n",
    "all_count = 0\n",
    "for i in range(sampler.n // batch_size):\n",
    "    batch = sampler.next_batch()\n",
    "    mask = batch[1]\n",
    "    for j in range(batch_size):\n",
    "        zero_count += np.sum(1 - mask[j])\n",
    "        all_count += mask[j].shape[0]\n",
    "print(zero_count / all_count)"
   ]
  },
  {
   "cell_type": "code",
   "execution_count": 13,
   "id": "08ad8c72-6af7-4053-94cb-6364a61f2656",
   "metadata": {},
   "outputs": [],
   "source": [
    "class SmartSampler(BatchSampler):\n",
    "    def __init__(self, data, batch_size):\n",
    "        super().__init__(data, batch_size)\n",
    "\n",
    "    def reset(self):\n",
    "        d = np.array(list(map(lambda x: len(x[0]), self.data)))\n",
    "        idx = np.argsort(d + np.random.randint(-2, 2, size=len(d)))\n",
    "        self.data = self.data[idx]\n",
    "\n",
    "        b = np.arange(len(self.data)).reshape(len(self.data) // self.batch_size, self.batch_size)\n",
    "        np.random.shuffle(b)\n",
    "        self.data = self.data[b.reshape(-1)]\n",
    "        self.i = 0"
   ]
  },
  {
   "cell_type": "code",
   "execution_count": 14,
   "id": "1a515ed4-1d27-402a-a4b3-68f478e9277e",
   "metadata": {},
   "outputs": [],
   "source": [
    "smart_sampler = SmartSampler(data, batch_size)\n",
    "smart_sampler.reset()\n",
    "\n"
   ]
  },
  {
   "cell_type": "code",
   "execution_count": 15,
   "id": "64a5110c-16e9-44eb-bdcd-ed00919aad0b",
   "metadata": {},
   "outputs": [
    {
     "name": "stdout",
     "output_type": "stream",
     "text": [
      "0.03260337056633353\n"
     ]
    }
   ],
   "source": [
    "zero_count = 0\n",
    "all_count = 0\n",
    "for i in range(smart_sampler.n // batch_size):\n",
    "    batch = smart_sampler.next_batch()\n",
    "    mask = batch[1]\n",
    "    for j in range(batch_size):\n",
    "        zero_count += np.sum(1 - mask[j])\n",
    "        all_count += mask[j].shape[0]\n",
    "print(zero_count / all_count)"
   ]
  },
  {
   "cell_type": "code",
   "execution_count": null,
   "id": "244c260c-55a5-40c7-84ad-4396d82fac98",
   "metadata": {},
   "outputs": [],
   "source": []
  }
 ],
 "metadata": {
  "kernelspec": {
   "display_name": "Python 3 (ipykernel)",
   "language": "python",
   "name": "python3"
  },
  "language_info": {
   "codemirror_mode": {
    "name": "ipython",
    "version": 3
   },
   "file_extension": ".py",
   "mimetype": "text/x-python",
   "name": "python",
   "nbconvert_exporter": "python",
   "pygments_lexer": "ipython3",
   "version": "3.9.12"
  }
 },
 "nbformat": 4,
 "nbformat_minor": 5
}
